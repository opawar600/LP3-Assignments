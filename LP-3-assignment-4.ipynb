{
 "cells": [
  {
   "cell_type": "markdown",
   "metadata": {
    "_uuid": "8fa5614be13bf3856d9cef0db63219b52f4d6204"
   },
   "source": [
    "# LP 3 - Assignment 4 : K-Means Clustering"
   ]
  },
  {
   "cell_type": "markdown",
   "metadata": {
    "_uuid": "c5e76f053e2a3b4dfa6259acf4b9db77d752fa36"
   },
   "source": [
    "## Import required libraries "
   ]
  },
  {
   "cell_type": "code",
   "execution_count": 1,
   "metadata": {
    "_cell_guid": "b1076dfc-b9ad-4769-8c92-a6c4dae69d19",
    "_uuid": "8f2839f25d086af736a60e9eeb907d3b93b6e0e5"
   },
   "outputs": [
    {
     "name": "stdout",
     "output_type": "stream",
     "text": [
      "['K-Means - Sheet1.csv']\n"
     ]
    }
   ],
   "source": [
    "# This Python 3 environment comes with many helpful analytics libraries installed\n",
    "# It is defined by the kaggle/python docker image: https://github.com/kaggle/docker-python\n",
    "# For example, here's several helpful packages to load in \n",
    "\n",
    "import numpy as np # linear algebra\n",
    "import pandas as pd # data processing, CSV file I/O (e.g. pd.read_csv)\n",
    "import matplotlib.pyplot as plt # data visualisation\n",
    "from sklearn.cluster import KMeans # K-Means from scikit learn library\n",
    "# Input data files are available in the \"../input/\" directory.\n",
    "# For example, running this (by clicking run or pressing Shift+Enter) will list the files in the input directory\n",
    "\n",
    "import os\n",
    "print(os.listdir(\"../input\"))\n",
    "\n",
    "# Any results you write to the current directory are saved as output."
   ]
  },
  {
   "cell_type": "markdown",
   "metadata": {
    "_uuid": "ab06b12c05818bcde865c58bd6a062fac5ac3227"
   },
   "source": [
    "## Load dataset"
   ]
  },
  {
   "cell_type": "code",
   "execution_count": 2,
   "metadata": {
    "_cell_guid": "79c7e3d0-c299-4dcb-8224-4455121ee9b0",
    "_uuid": "d629ff2d2480ee46fbb7e2d37f6b5fab8052498a"
   },
   "outputs": [
    {
     "data": {
      "text/html": [
       "<div>\n",
       "<style scoped>\n",
       "    .dataframe tbody tr th:only-of-type {\n",
       "        vertical-align: middle;\n",
       "    }\n",
       "\n",
       "    .dataframe tbody tr th {\n",
       "        vertical-align: top;\n",
       "    }\n",
       "\n",
       "    .dataframe thead th {\n",
       "        text-align: right;\n",
       "    }\n",
       "</style>\n",
       "<table border=\"1\" class=\"dataframe\">\n",
       "  <thead>\n",
       "    <tr style=\"text-align: right;\">\n",
       "      <th></th>\n",
       "      <th>Point</th>\n",
       "      <th>x</th>\n",
       "      <th>y</th>\n",
       "    </tr>\n",
       "  </thead>\n",
       "  <tbody>\n",
       "    <tr>\n",
       "      <th>0</th>\n",
       "      <td>P1</td>\n",
       "      <td>0.10</td>\n",
       "      <td>0.60</td>\n",
       "    </tr>\n",
       "    <tr>\n",
       "      <th>1</th>\n",
       "      <td>P2</td>\n",
       "      <td>0.15</td>\n",
       "      <td>0.17</td>\n",
       "    </tr>\n",
       "    <tr>\n",
       "      <th>2</th>\n",
       "      <td>P3</td>\n",
       "      <td>0.08</td>\n",
       "      <td>0.90</td>\n",
       "    </tr>\n",
       "    <tr>\n",
       "      <th>3</th>\n",
       "      <td>P4</td>\n",
       "      <td>0.16</td>\n",
       "      <td>0.85</td>\n",
       "    </tr>\n",
       "    <tr>\n",
       "      <th>4</th>\n",
       "      <td>P5</td>\n",
       "      <td>0.20</td>\n",
       "      <td>0.30</td>\n",
       "    </tr>\n",
       "    <tr>\n",
       "      <th>5</th>\n",
       "      <td>P6</td>\n",
       "      <td>0.25</td>\n",
       "      <td>0.50</td>\n",
       "    </tr>\n",
       "    <tr>\n",
       "      <th>6</th>\n",
       "      <td>P7</td>\n",
       "      <td>0.24</td>\n",
       "      <td>0.10</td>\n",
       "    </tr>\n",
       "    <tr>\n",
       "      <th>7</th>\n",
       "      <td>P8</td>\n",
       "      <td>0.30</td>\n",
       "      <td>0.20</td>\n",
       "    </tr>\n",
       "  </tbody>\n",
       "</table>\n",
       "</div>"
      ],
      "text/plain": [
       "  Point     x     y\n",
       "0    P1  0.10  0.60\n",
       "1    P2  0.15  0.17\n",
       "2    P3  0.08  0.90\n",
       "3    P4  0.16  0.85\n",
       "4    P5  0.20  0.30\n",
       "5    P6  0.25  0.50\n",
       "6    P7  0.24  0.10\n",
       "7    P8  0.30  0.20"
      ]
     },
     "execution_count": 2,
     "metadata": {},
     "output_type": "execute_result"
    }
   ],
   "source": [
    "df = pd.read_csv(\"../input/K-Means - Sheet1.csv\")\n",
    "df"
   ]
  },
  {
   "cell_type": "markdown",
   "metadata": {
    "_uuid": "31edb5f358f1c13a2632748b00c5513e4169a0ec"
   },
   "source": [
    "## Initialise the cluster centers to point P1 and P8"
   ]
  },
  {
   "cell_type": "code",
   "execution_count": 3,
   "metadata": {
    "_uuid": "4fd591cc75538d70d26a88e3df3b8711e3ef352b"
   },
   "outputs": [],
   "source": [
    "a = np.array([[0.1 , 0.6 ],[0.3, 0.2]])"
   ]
  },
  {
   "cell_type": "markdown",
   "metadata": {
    "_uuid": "a7e3fc85a54684c0101d4ca723055fe36d16d961"
   },
   "source": [
    "## Fit the given data for 2 cluster"
   ]
  },
  {
   "cell_type": "code",
   "execution_count": 4,
   "metadata": {
    "_uuid": "5ab550ea9473f080ca48dc23640a92ab9355b414"
   },
   "outputs": [
    {
     "name": "stderr",
     "output_type": "stream",
     "text": [
      "/opt/conda/lib/python3.6/site-packages/sklearn/cluster/k_means_.py:971: RuntimeWarning: Explicit initial center position passed: performing only one init in k-means instead of n_init=10\n",
      "  return_n_iter=True)\n"
     ]
    },
    {
     "data": {
      "text/plain": [
       "KMeans(algorithm='auto', copy_x=True,\n",
       "    init=array([[0.1, 0.6],\n",
       "       [0.3, 0.2]]), max_iter=300,\n",
       "    n_clusters=2, n_init=10, n_jobs=None, precompute_distances='auto',\n",
       "    random_state=None, tol=0.0001, verbose=0)"
      ]
     },
     "execution_count": 4,
     "metadata": {},
     "output_type": "execute_result"
    }
   ],
   "source": [
    "clu = KMeans(n_clusters = 2,init = a)\n",
    "clu.fit(df[['x','y']])"
   ]
  },
  {
   "cell_type": "markdown",
   "metadata": {
    "_uuid": "89705a459367bdbe55c859e1b57c440184c3c14d"
   },
   "source": [
    "## Get the updated values for cluster centres M1 and M2"
   ]
  },
  {
   "cell_type": "code",
   "execution_count": 5,
   "metadata": {
    "_uuid": "05540657913e7a39e3ac88a23a050ba1b0d29d85"
   },
   "outputs": [
    {
     "name": "stdout",
     "output_type": "stream",
     "text": [
      "[0.1475 0.7125] [0.2225 0.1925]\n"
     ]
    }
   ],
   "source": [
    "centers = clu.cluster_centers_\n",
    "m1_cen = centers[0]\n",
    "m2_cen = centers[1]\n",
    "print(m1_cen,m2_cen)"
   ]
  },
  {
   "cell_type": "markdown",
   "metadata": {
    "_uuid": "421974f151ca1c0e34750a4ad14af203a4756ad9"
   },
   "source": [
    "## Get the labels of each point in dataset i.e to which cluster the point is assigned"
   ]
  },
  {
   "cell_type": "code",
   "execution_count": 6,
   "metadata": {
    "_uuid": "b9a257dc9565157c3cd2fc5ca7aeb6072d53b77f"
   },
   "outputs": [
    {
     "data": {
      "text/plain": [
       "array([0, 1, 0, 0, 1, 0, 1, 1], dtype=int32)"
      ]
     },
     "execution_count": 6,
     "metadata": {},
     "output_type": "execute_result"
    }
   ],
   "source": [
    "clu.labels_"
   ]
  },
  {
   "cell_type": "markdown",
   "metadata": {
    "_uuid": "39f4effb6df39e3ff26915c758f5ba9112f9a6a3"
   },
   "source": [
    "## Find poplulation of each cluster"
   ]
  },
  {
   "cell_type": "code",
   "execution_count": 7,
   "metadata": {
    "_uuid": "17b70738f35202012553c4a939cd578e6d5eb99e"
   },
   "outputs": [
    {
     "name": "stdout",
     "output_type": "stream",
     "text": [
      "Cluster M1 has 4 points \n",
      "Cluster M2 has 4 points\n"
     ]
    }
   ],
   "source": [
    "lis = clu.labels_\n",
    "one = 0\n",
    "two = 0\n",
    "for i in range(0,len(lis)):\n",
    "    if lis[i]==0:\n",
    "        one+=1\n",
    "    else:\n",
    "        two+=1\n",
    "print(\"Cluster M1 has\",one,\"points \\nCluster M2 has\",two,\"points\")"
   ]
  },
  {
   "cell_type": "markdown",
   "metadata": {
    "_uuid": "41b2c4e4af422dc31446ddef9289cd57b57169d7"
   },
   "source": [
    "## To which cluster is P6 assigned?"
   ]
  },
  {
   "cell_type": "code",
   "execution_count": 8,
   "metadata": {
    "_uuid": "3a004bfd061533a88712c61052fab35de0a5ccad"
   },
   "outputs": [
    {
     "data": {
      "text/plain": [
       "array([0], dtype=int32)"
      ]
     },
     "execution_count": 8,
     "metadata": {},
     "output_type": "execute_result"
    }
   ],
   "source": [
    "#P6 \n",
    "clu.predict([[0.25,0.5]])"
   ]
  },
  {
   "cell_type": "markdown",
   "metadata": {
    "_uuid": "8e09c5a0eb0d6b6be7ae509466b368f2501a7045"
   },
   "source": [
    "## Plot the points and the centres"
   ]
  },
  {
   "cell_type": "code",
   "execution_count": 9,
   "metadata": {
    "_uuid": "f1149ece8ba2e5d86cd43ba35e04b914f6a334e5"
   },
   "outputs": [
    {
     "data": {
      "image/png": "[encoded data removed]",
      "text/plain": [
       "<Figure size 432x288 with 1 Axes>"
      ]
     },
     "metadata": {},
     "output_type": "display_data"
    }
   ],
   "source": [
    "fig = plt.figure()\n",
    "ax1 = fig.add_subplot(111)\n",
    "\n",
    "ax1.scatter(df['x'],df['y'],c='r',label=\"Points\")\n",
    "ax1.scatter(m2_cen,m1_cen,c='b',label=\"Centroids\")\n",
    "plt.legend(loc = \"upper right\")\n",
    "plt.show()"
   ]
  },
  {
   "cell_type": "markdown",
   "metadata": {
    "_uuid": "2c16b2dd70fee24ab2e02b3251c77dd2ed41b0b1"
   },
   "source": [
    "# Conclusion\n",
    "\n",
    "## 1. Point P6 belongs to cluster M1\n",
    "\n",
    "## 2. Population of cluster M2 is 4\n",
    "\n",
    "## The updated values of M1 is [0.1475 0.7125] and M2 is [0.2225 0.1925]"
   ]
  }
 ],
 "metadata": {
  "kernelspec": {
   "display_name": "Python 3",
   "language": "python",
   "name": "python3"
  },
  "language_info": {
   "codemirror_mode": {
    "name": "ipython",
    "version": 3
   },
   "file_extension": ".py",
   "mimetype": "text/x-python",
   "name": "python",
   "nbconvert_exporter": "python",
   "pygments_lexer": "ipython3",
   "version": "3.6.6"
  }
 },
 "nbformat": 4,
 "nbformat_minor": 1
}
